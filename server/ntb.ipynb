{
 "cells": [
  {
   "cell_type": "code",
   "execution_count": 4,
   "metadata": {},
   "outputs": [
    {
     "name": "stdout",
     "output_type": "stream",
     "text": [
      "Loading songs...\n",
      "Loading Abba - Dancing Queen.mp3\n",
      "Loading The Beatles - Help.mp3\n",
      "Loading Queen - Bohemian Rhapsody.mp3\n",
      "Songs loaded!\n"
     ]
    }
   ],
   "source": [
    "import random\n",
    "import glob\n",
    "from dtw import dtw\n",
    "from src.db import load_songs, songs\n",
    "from src.descriptors_extractor import extract_descriptors\n",
    "\n",
    "load_songs()"
   ]
  },
  {
   "cell_type": "code",
   "execution_count": 8,
   "metadata": {},
   "outputs": [
    {
     "name": "stdout",
     "output_type": "stream",
     "text": [
      "Abba - Dancing Queen Abba - Dancing Queen True\n",
      "Abba - Dancing Queen Abba - Dancing Queen True\n",
      "Abba - Dancing Queen Abba - Dancing Queen True\n",
      "Abba - Dancing Queen Abba - Dancing Queen True\n",
      "Abba - Dancing Queen Abba - Dancing Queen True\n",
      "Abba - Dancing Queen Abba - Dancing Queen True\n",
      "Abba - Dancing Queen Abba - Dancing Queen True\n",
      "Abba - Dancing Queen Abba - Dancing Queen True\n",
      "Abba - Dancing Queen Abba - Dancing Queen True\n",
      "Abba - Dancing Queen Abba - Dancing Queen True\n",
      "The Beatles - Help The Beatles - Help True\n",
      "The Beatles - Help The Beatles - Help True\n",
      "The Beatles - Help The Beatles - Help True\n",
      "The Beatles - Help The Beatles - Help True\n",
      "The Beatles - Help The Beatles - Help True\n",
      "The Beatles - Help The Beatles - Help True\n",
      "The Beatles - Help The Beatles - Help True\n",
      "The Beatles - Help The Beatles - Help True\n",
      "The Beatles - Help The Beatles - Help True\n",
      "The Beatles - Help The Beatles - Help True\n",
      "Queen - Bohemian Rhapsody Queen - Bohemian Rhapsody True\n",
      "Queen - Bohemian Rhapsody Queen - Bohemian Rhapsody True\n",
      "Queen - Bohemian Rhapsody Queen - Bohemian Rhapsody True\n",
      "Queen - Bohemian Rhapsody Queen - Bohemian Rhapsody True\n",
      "Queen - Bohemian Rhapsody Queen - Bohemian Rhapsody True\n",
      "Queen - Bohemian Rhapsody Queen - Bohemian Rhapsody True\n",
      "Queen - Bohemian Rhapsody Queen - Bohemian Rhapsody True\n",
      "Queen - Bohemian Rhapsody Queen - Bohemian Rhapsody True\n",
      "Queen - Bohemian Rhapsody Queen - Bohemian Rhapsody True\n",
      "Queen - Bohemian Rhapsody Queen - Bohemian Rhapsody True\n",
      "Success rate: 100.0%\n"
     ]
    }
   ],
   "source": [
    "successful = 0\n",
    "total = 0\n",
    "\n",
    "for file in glob.glob(\"../data/*\"):\n",
    "    for _ in range(10):\n",
    "        desc = extract_descriptors(file)\n",
    "\n",
    "        i = random.randint(0, desc.shape[1] - 428)\n",
    "        random_sample = desc[:, i:i + 428]\n",
    "\n",
    "        distances = {}\n",
    "\n",
    "        for song, ref_descriptors in songs.items():\n",
    "            distance = dtw(ref_descriptors.T, random_sample.T).normalizedDistance\n",
    "\n",
    "            distances[song] = distance  \n",
    "\n",
    "        result = min(distances, key=distances.get).split(\".mp3\")[0]\n",
    "        expected = file.split(\"/\")[-1].split(\".mp3\")[0]\n",
    "\n",
    "        if result == expected: successful += 1\n",
    "        total += 1\n",
    "\n",
    "        print(expected, result, result == expected)\n",
    "\n",
    "print(f\"Success rate: {successful / total * 100}%\")"
   ]
  },
  {
   "cell_type": "code",
   "execution_count": null,
   "metadata": {},
   "outputs": [],
   "source": []
  }
 ],
 "metadata": {
  "kernelspec": {
   "display_name": "Python 3.10.6 64-bit ('vmm')",
   "language": "python",
   "name": "python3"
  },
  "language_info": {
   "codemirror_mode": {
    "name": "ipython",
    "version": 3
   },
   "file_extension": ".py",
   "mimetype": "text/x-python",
   "name": "python",
   "nbconvert_exporter": "python",
   "pygments_lexer": "ipython3",
   "version": "3.10.6"
  },
  "orig_nbformat": 4,
  "vscode": {
   "interpreter": {
    "hash": "06fd3102d59e92f7523f68a1ce286485ad88d6f8605457a39fba9fe7dee4da7c"
   }
  }
 },
 "nbformat": 4,
 "nbformat_minor": 2
}
